{
 "cells": [
  {
   "cell_type": "code",
   "execution_count": 1,
   "id": "054c0c7c",
   "metadata": {},
   "outputs": [],
   "source": [
    "import matplotlib.pyplot as plt\n",
    "import tensorflow as tf\n",
    "import pandas as pd\n",
    "import numpy as np\n",
    "\n",
    "import warnings\n",
    "warnings.filterwarnings('ignore')\n",
    "\n",
    "from tensorflow import keras\n",
    "from keras import layers\n",
    "from tensorflow.keras.models import Sequential\n",
    "from tensorflow.keras.layers import Activation, Dropout, Flatten, Dense\n",
    "from tensorflow.keras.layers import Conv2D, MaxPooling2D\n",
    "from tensorflow.keras.utils import image_dataset_from_directory\n",
    "from tensorflow.keras.preprocessing.image import ImageDataGenerator, load_img\n",
    "from tensorflow.keras.preprocessing import image_dataset_from_directory\n",
    "\n",
    "import os\n",
    "import matplotlib.image as mpimg\n"
   ]
  },
  {
   "cell_type": "code",
   "execution_count": null,
   "id": "553bbaa2",
   "metadata": {},
   "outputs": [],
   "source": [
    "# # Dataset Link- https://www.kaggle.com/datasets/paultimothymooney/chest-xray-pneumonia\n",
    "# import zipfile\n",
    "# zip_ref = zipfile.ZipFile('/content/chest-xray-pneumonia.zip', 'r')\n",
    "# zip_ref.extractall('/content')\n",
    "# zip_ref.close()\n"
   ]
  },
  {
   "cell_type": "code",
   "execution_count": 3,
   "id": "9604363d",
   "metadata": {},
   "outputs": [
    {
     "ename": "FileNotFoundError",
     "evalue": "[WinError 3] The system cannot find the path specified: '/chest_xray/train'",
     "output_type": "error",
     "traceback": [
      "\u001b[1;31m---------------------------------------------------------------------------\u001b[0m",
      "\u001b[1;31mFileNotFoundError\u001b[0m                         Traceback (most recent call last)",
      "Cell \u001b[1;32mIn[3], line 5\u001b[0m\n\u001b[0;32m      1\u001b[0m \u001b[38;5;66;03m# For local system\u001b[39;00m\n\u001b[0;32m      2\u001b[0m path \u001b[38;5;241m=\u001b[39m \u001b[38;5;124m'\u001b[39m\u001b[38;5;124m/chest_xray/train\u001b[39m\u001b[38;5;124m'\u001b[39m\n\u001b[1;32m----> 5\u001b[0m classes \u001b[38;5;241m=\u001b[39m os\u001b[38;5;241m.\u001b[39mlistdir(path)\n\u001b[0;32m      6\u001b[0m \u001b[38;5;28mprint\u001b[39m(classes)\n",
      "\u001b[1;31mFileNotFoundError\u001b[0m: [WinError 3] The system cannot find the path specified: '/chest_xray/train'"
     ]
    }
   ],
   "source": [
    "# For local system\n",
    "path = '/chest_xray/train'\n",
    "\n",
    "\n",
    "classes = os.listdir(path)\n",
    "print(classes)\n"
   ]
  },
  {
   "cell_type": "code",
   "execution_count": null,
   "id": "904826e8",
   "metadata": {},
   "outputs": [],
   "source": [
    "# Define the directories for the X-ray images\n",
    "PNEUMONIA_dir = os.path.join(path + '/' + classes[0])\n",
    "NORMAL_dir = os.path.join(path + '/' + classes[1])\n",
    "\n",
    "# Create lists of the file names in each directory\n",
    "pneumonia_names = os.listdir(PNEUMONIA_dir)\n",
    "normal_names = os.listdir(NORMAL_dir)\n",
    "\n",
    "print('There are ', len(pneumonia_names),\n",
    "\t'images of pneumonia infected in training dataset')\n",
    "print('There are ', len(normal_names), 'normal images in training dataset')\n"
   ]
  },
  {
   "cell_type": "code",
   "execution_count": null,
   "id": "663e29e6",
   "metadata": {},
   "outputs": [],
   "source": [
    "# Set the figure size\n",
    "fig = plt.gcf()\n",
    "fig.set_size_inches(16, 8)\n",
    "\n",
    "# Select the starting index for the images to display\n",
    "pic_index = 210\n",
    "\n",
    "# Create lists of the file paths for the 16 images to display\n",
    "pneumonia_images = [os.path.join(PNEUMONIA_dir, fname)\n",
    "\t\t\t\t\tfor fname in pneumonia_names[pic_index-8:pic_index]]\n",
    "# Loop through the image paths and display each image in a subplot\n",
    "for i, img_path in enumerate(pneumonia_images):\n",
    "\tsp = plt.subplot(2, 4, i+1)\n",
    "\tsp.axis('Off')\n",
    "\n",
    "\t# Read in the image using Matplotlib's imread() function\n",
    "\timg = mpimg.imread(img_path)\n",
    "\tplt.imshow(img)\n",
    "\n",
    "# Display the plot with the 16 images in a 4x4\n",
    "plt.show()\n"
   ]
  },
  {
   "cell_type": "code",
   "execution_count": null,
   "id": "9817e525",
   "metadata": {},
   "outputs": [],
   "source": [
    "# Set the figure size\n",
    "fig = plt.gcf()\n",
    "fig.set_size_inches(16, 8)\n",
    "\n",
    "# Select the starting index for the images to display\n",
    "pic_index = 210\n",
    "\n",
    "# Create lists of the file paths for the 16 images to display\n",
    "normal_images = [os.path.join(NORMAL_dir, fname)\n",
    "\t\t\tfor fname in normal_names[pic_index-8:pic_index]]\n",
    "# Loop through the image paths and display each image in a subplot\n",
    "for i, img_path in enumerate(normal_images):\n",
    "\tsp = plt.subplot(2, 4, i+1)\n",
    "\tsp.axis('Off')\n",
    "\n",
    "\t# Read in the image using Matplotlib's imread() function\n",
    "\timg = mpimg.imread(img_path)\n",
    "\tplt.imshow(img)\n",
    "\n",
    "# Display the plot with the 16 images in a 4x4 grid\n",
    "plt.show()\n"
   ]
  },
  {
   "cell_type": "code",
   "execution_count": null,
   "id": "97578c05",
   "metadata": {},
   "outputs": [],
   "source": [
    "Train = keras.utils.image_dataset_from_directory(\n",
    "\tdirectory='/content/chest_xray/chest_xray/train',\n",
    "\tlabels=\"inferred\",\n",
    "\tlabel_mode=\"categorical\",\n",
    "\tbatch_size=32,\n",
    "\timage_size=(256, 256))\n",
    "Test = keras.utils.image_dataset_from_directory(\n",
    "\tdirectory='/content/chest_xray/chest_xray/test',\n",
    "\tlabels=\"inferred\",\n",
    "\tlabel_mode=\"categorical\",\n",
    "\tbatch_size=32,\n",
    "\timage_size=(256, 256))\n",
    "Validation = keras.utils.image_dataset_from_directory(\n",
    "\tdirectory='/content/chest_xray/chest_xray/val',\n",
    "\tlabels=\"inferred\",\n",
    "\tlabel_mode=\"categorical\",\n",
    "\tbatch_size=32,\n",
    "\timage_size=(256, 256))\n"
   ]
  },
  {
   "cell_type": "code",
   "execution_count": null,
   "id": "cfbc7917",
   "metadata": {},
   "outputs": [],
   "source": [
    "model = tf.keras.models.Sequential([\n",
    "\tlayers.Conv2D(32, (3, 3), activation='relu', input_shape=(256, 256, 3)),\n",
    "\tlayers.MaxPooling2D(2, 2),\n",
    "\tlayers.Conv2D(64, (3, 3), activation='relu'),\n",
    "\tlayers.MaxPooling2D(2, 2),\n",
    "\tlayers.Conv2D(64, (3, 3), activation='relu'),\n",
    "\tlayers.MaxPooling2D(2, 2),\n",
    "\tlayers.Conv2D(64, (3, 3), activation='relu'),\n",
    "\tlayers.MaxPooling2D(2, 2),\n",
    "\n",
    "\tlayers.Flatten(),\n",
    "\tlayers.Dense(512, activation='relu'),\n",
    "\tlayers.BatchNormalization(),\n",
    "\tlayers.Dense(512, activation='relu'),\n",
    "\tlayers.Dropout(0.1),\n",
    "\tlayers.BatchNormalization(),\n",
    "\tlayers.Dense(512, activation='relu'),\n",
    "\tlayers.Dropout(0.2),\n",
    "\tlayers.BatchNormalization(),\n",
    "\tlayers.Dense(512, activation='relu'),\n",
    "\tlayers.Dropout(0.2),\n",
    "\tlayers.BatchNormalization(),\n",
    "\tlayers.Dense(2, activation='sigmoid')\n",
    "])\n"
   ]
  },
  {
   "cell_type": "code",
   "execution_count": null,
   "id": "cfec6305",
   "metadata": {},
   "outputs": [],
   "source": [
    "model.summary()\n"
   ]
  },
  {
   "cell_type": "code",
   "execution_count": null,
   "id": "d48d6b6d",
   "metadata": {},
   "outputs": [],
   "source": [
    "# Plot the keras model\n",
    "keras.utils.plot_model(\n",
    "\tmodel,\n",
    "\t# show the shapes of the input/output tensors of each layer\n",
    "\tshow_shapes=True,\n",
    "\t# show the data types of the input/output tensors of each layer\n",
    "\tshow_dtype=True,\n",
    "\t# show the activations of each layer in the output graph\n",
    "\tshow_layer_activations=True\n",
    ")\n"
   ]
  },
  {
   "cell_type": "code",
   "execution_count": null,
   "id": "47e563b1",
   "metadata": {},
   "outputs": [],
   "source": [
    "model.compile(\n",
    "\t# specify the loss function to use during training\n",
    "\tloss='binary_crossentropy',\n",
    "\t# specify the optimizer algorithm to use during training\n",
    "\toptimizer='adam',\n",
    "\t# specify the evaluation metrics to use during training\n",
    "\tmetrics=['accuracy']\n",
    ")\n"
   ]
  },
  {
   "cell_type": "code",
   "execution_count": null,
   "id": "07fc9a03",
   "metadata": {},
   "outputs": [],
   "source": [
    "history = model.fit(Train,\n",
    "\t\tepochs=10,\n",
    "\t\tvalidation_data=Validation)\n"
   ]
  },
  {
   "cell_type": "code",
   "execution_count": null,
   "id": "f8dd9237",
   "metadata": {},
   "outputs": [],
   "source": [
    "history_df = pd.DataFrame(history.history)\n",
    "history_df.loc[:, ['loss', 'val_loss']].plot()\n",
    "history_df.loc[:, ['accuracy', 'val_accuracy']].plot()\n",
    "plt.show()\n"
   ]
  },
  {
   "cell_type": "code",
   "execution_count": null,
   "id": "bec1f0cd",
   "metadata": {},
   "outputs": [],
   "source": [
    "loss, accuracy = model.evaluate(Test)\n",
    "print('The accuracy of the model on test dataset is',\n",
    "\tnp.round(accuracy*100))\n"
   ]
  },
  {
   "cell_type": "code",
   "execution_count": null,
   "id": "cccf53be",
   "metadata": {},
   "outputs": [],
   "source": [
    "# Load the image from the directory\n",
    "# \"/content/chest_xray/chest_xray/test/NORMAL/IM-0010-0001.jpeg\"\n",
    "# with the target size of (256, 256)\n",
    "test_image = tf.keras.utils.load_img(\n",
    "\t\"/content/chest_xray/chest_xray/test/NORMAL/IM-0010-0001.jpeg\",\n",
    "\ttarget_size=(256, 256))\n",
    "\n",
    "# Display the loaded image\n",
    "plt.imshow(test_image)\n",
    "\n",
    "# Convert the loaded image into a NumPy array and\n",
    "# expand its dimensions to match the expected input shape of the model\n",
    "test_image = tf.keras.utils.img_to_array(test_image)\n",
    "test_image = np.expand_dims(test_image, axis=0)\n",
    "\n",
    "# Use the trained model to make a prediction on the input image\n",
    "result = model.predict(test_image)\n",
    "\n",
    "# Extract the probability of the input image belonging\n",
    "# to each class from the prediction result\n",
    "class_probabilities = result[0]\n",
    "\n",
    "# Determine the class with the highest probability and print its label\n",
    "if class_probabilities[0] > class_probabilities[1]:\n",
    "\tprint(\"Normal\")\n",
    "else:\n",
    "\tprint(\"Pneumonia\")\n"
   ]
  },
  {
   "cell_type": "code",
   "execution_count": null,
   "id": "b4e35ffe",
   "metadata": {},
   "outputs": [],
   "source": [
    "# Load the image from the directory\n",
    "# \"/content/chest_xray/chest_xray/test/N\n",
    "# ORMAL/IM-0010-0001.jpeg\" with the target size of (256, 256)\n",
    "test_image = tf.keras.utils.load_img(\n",
    "\t\"/content/chest_xray/chest_xray/test/PNEUMONIA/person100_bacteria_478.jpeg\",\n",
    "\ttarget_size=(256, 256))\n",
    "\n",
    "# Display the loaded image\n",
    "plt.imshow(test_image)\n",
    "\n",
    "# Convert the loaded image into a NumPy array\n",
    "# and expand its dimensions to match the\n",
    "# expected input shape of the model\n",
    "test_image = tf.keras.utils.img_to_array(test_image)\n",
    "test_image = np.expand_dims(test_image, axis=0)\n",
    "\n",
    "# Use the trained model to make a prediction on the input image\n",
    "result = model.predict(test_image)\n",
    "\n",
    "# Extract the probability of the input\n",
    "# image belonging to each class from\n",
    "# the prediction result\n",
    "class_probabilities = result[0]\n",
    "\n",
    "# Determine the class with the highest\n",
    "# probability and print its label\n",
    "if class_probabilities[0] > class_probabilities[1]:\n",
    "\tprint(\"Normal\")\n",
    "else:\n",
    "\tprint(\"Pneumonia\")\n"
   ]
  }
 ],
 "metadata": {
  "kernelspec": {
   "display_name": "Python 3 (ipykernel)",
   "language": "python",
   "name": "python3"
  },
  "language_info": {
   "codemirror_mode": {
    "name": "ipython",
    "version": 3
   },
   "file_extension": ".py",
   "mimetype": "text/x-python",
   "name": "python",
   "nbconvert_exporter": "python",
   "pygments_lexer": "ipython3",
   "version": "3.11.5"
  }
 },
 "nbformat": 4,
 "nbformat_minor": 5
}
